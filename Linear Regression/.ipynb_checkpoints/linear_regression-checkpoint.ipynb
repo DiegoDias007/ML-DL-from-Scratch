{
 "cells": [
  {
   "cell_type": "code",
   "execution_count": null,
   "id": "375f9bb3-b956-4282-bd7c-90a03a2f1e51",
   "metadata": {},
   "outputs": [],
   "source": [
    "%pip install pandas\n",
    "%pip install numpy\n",
    "%pip install scikit-learn\n",
    "%pip install matplotlib"
   ]
  },
  {
   "cell_type": "code",
   "execution_count": 87,
   "id": "58ecd847-530b-4ac5-be69-de9da6b218b8",
   "metadata": {},
   "outputs": [],
   "source": [
    "import pandas as pd\n",
    "import numpy as np\n",
    "import matplotlib.pyplot as plt\n",
    "from sklearn.preprocessing import StandardScaler\n",
    "from sklearn.datasets import load_diabetes\n",
    "from sklearn.model_selection import train_test_split\n",
    "import math"
   ]
  },
  {
   "cell_type": "code",
   "execution_count": 88,
   "id": "6b24ef5c-d914-4390-b46e-e40b0169f2be",
   "metadata": {},
   "outputs": [],
   "source": [
    "def linear_function(X, w, b):\n",
    "    \"\"\"\n",
    "        X: (m, n)\n",
    "        w: (n, 1)\n",
    "        b: scalar\n",
    "        m: number of training examples\n",
    "        n: number of features\n",
    "    \"\"\"\n",
    "    pred = np.matmul(X, w) + b\n",
    "    return pred"
   ]
  },
  {
   "cell_type": "code",
   "execution_count": 89,
   "id": "f831e28a-be93-4793-a823-96ad947fa252",
   "metadata": {},
   "outputs": [],
   "source": [
    "def initialize_parameters(n):\n",
    "    \"\"\"\n",
    "        n: number of features\n",
    "    \"\"\"\n",
    "    w = np.random.randn(n, 1) * 0.01\n",
    "    b = np.float64(0.0)\n",
    "    return w, b"
   ]
  },
  {
   "cell_type": "code",
   "execution_count": 90,
   "id": "42c81d89-df80-47fe-b846-80fd2db41a5f",
   "metadata": {},
   "outputs": [],
   "source": [
    "def compute_cost(y_hat, y, m):\n",
    "    \"\"\"\n",
    "        y_hat: (m, 1)\n",
    "        y: (m, 1)\n",
    "        m: number of training examples\n",
    "    \"\"\"\n",
    "    cost = np.mean((y_hat - y) ** 2)\n",
    "    return cost"
   ]
  },
  {
   "cell_type": "code",
   "execution_count": 91,
   "id": "0053fef8-13fd-47b8-823c-283b6e030f9c",
   "metadata": {},
   "outputs": [],
   "source": [
    "def compute_gradient(X, y, y_hat, m, n):\n",
    "    \"\"\"\n",
    "        X: (m, n)\n",
    "        y: (m, 1)\n",
    "        y_hat: (m , 1)  \n",
    "        m: number of training examples\n",
    "        n: number of features\n",
    "    \"\"\"\n",
    "    error = y_hat - y\n",
    "    w_gradient = (1 / m) * np.matmul(X.T, error) \n",
    "    b_gradient = (1 / m) * np.sum(error)\n",
    "    return w_gradient, b_gradient"
   ]
  },
  {
   "cell_type": "code",
   "execution_count": 92,
   "id": "f56f7195-d04d-40ec-ac0e-fdaf0640a22f",
   "metadata": {},
   "outputs": [],
   "source": [
    "def gradient_descent(X, y, w_in, b_in, alpha, number_iterations):\n",
    "    \"\"\"\n",
    "        X: (m, n)\n",
    "        y: (m, 1)\n",
    "        w_in: (n, 1)\n",
    "        b_in: scalar\n",
    "        alpha: scalar\n",
    "        number_iterations: scalar\n",
    "    \"\"\"\n",
    "    m, n = X.shape[0], X.shape[1]\n",
    "    J_history = []\n",
    "\n",
    "    w = w_in\n",
    "    b = b_in\n",
    "\n",
    "    for i in range(number_iterations + 1):\n",
    "        \n",
    "        y_hat = linear_function(X, w, b)\n",
    "\n",
    "        dj_dw, dj_db = compute_gradient(X, y, y_hat, m, n)\n",
    "\n",
    "        # update parameters based on the gradient\n",
    "        w = w - alpha * dj_dw\n",
    "        b = b - alpha * dj_db\n",
    "\n",
    "        # make a new prediction with the new paraameters\n",
    "        new_pred = linear_function(X, w, b)\n",
    "        current_cost = compute_cost(new_pred, y, m)\n",
    "        \n",
    "        J_history.append(current_cost)\n",
    "\n",
    "        if i % math.ceil(number_iterations / 10) == 0:\n",
    "            print(f\"Iteration {i}: Cost {current_cost}\")\n",
    "\n",
    "    return w, b, J_history"
   ]
  },
  {
   "cell_type": "code",
   "execution_count": 93,
   "id": "54b6cd13-65c0-4e90-b59f-66493fa0d5b1",
   "metadata": {},
   "outputs": [
    {
     "name": "stdout",
     "output_type": "stream",
     "text": [
      "X shape:  (442, 10)\n",
      "Y shape:  (442, 1)\n"
     ]
    }
   ],
   "source": [
    "diabetes = load_diabetes()\n",
    "X = diabetes.data\n",
    "y = (diabetes.target).reshape(-1, 1)\n",
    "print(\"X shape: \", X.shape)\n",
    "print(\"Y shape: \", y.shape)"
   ]
  },
  {
   "cell_type": "code",
   "execution_count": 94,
   "id": "5fc7287f-2a87-42f1-b384-d6ef09f2e9d2",
   "metadata": {},
   "outputs": [],
   "source": [
    "X_train, X_test, y_train, y_test = train_test_split(X, y, test_size=0.2, random_state=42)"
   ]
  },
  {
   "cell_type": "code",
   "execution_count": 95,
   "id": "9e9e649b-3b06-416d-889d-e3753ed512c8",
   "metadata": {},
   "outputs": [],
   "source": [
    "m, n = X_train.shape[0], X_train.shape[1]\n",
    "w_in, b_in = initialize_parameters(n)\n",
    "alpha = 0.01\n",
    "number_iterations = 100000"
   ]
  },
  {
   "cell_type": "code",
   "execution_count": 96,
   "id": "878e11fc-d270-44eb-809c-68e5a6a24701",
   "metadata": {},
   "outputs": [
    {
     "name": "stdout",
     "output_type": "stream",
     "text": [
      "Iteration 0: Cost 29240.478796568357\n",
      "Iteration 10000: Cost 4008.5770842729917\n",
      "Iteration 20000: Cost 3443.6405291909286\n",
      "Iteration 30000: Cost 3214.767708012698\n",
      "Iteration 40000: Cost 3094.0927580393654\n",
      "Iteration 50000: Cost 3022.900875560657\n",
      "Iteration 60000: Cost 2979.0380303504817\n",
      "Iteration 70000: Cost 2951.4210161726755\n",
      "Iteration 80000: Cost 2933.752481224405\n",
      "Iteration 90000: Cost 2922.2781353834225\n",
      "Iteration 100000: Cost 2914.7116943943993\n"
     ]
    }
   ],
   "source": [
    "w, b, J_history = gradient_descent(X_train, y_train, w_in, b_in, alpha, number_iterations)"
   ]
  },
  {
   "cell_type": "code",
   "execution_count": 97,
   "id": "4c6d2f1e-22fd-499a-ad97-307b25f69da4",
   "metadata": {},
   "outputs": [
    {
     "data": {
      "text/plain": [
       "[<matplotlib.lines.Line2D at 0x21ee4e15340>]"
      ]
     },
     "execution_count": 97,
     "metadata": {},
     "output_type": "execute_result"
    },
    {
     "data": {
      "image/png": "[encoded data removed]",
      "text/plain": [
       "<Figure size 640x480 with 1 Axes>"
      ]
     },
     "metadata": {},
     "output_type": "display_data"
    }
   ],
   "source": [
    "# Model converges\n",
    "plt.plot(J_history)"
   ]
  },
  {
   "cell_type": "code",
   "execution_count": 98,
   "id": "4e4e3fe2-3f2d-4c9a-87d0-626bce50102b",
   "metadata": {},
   "outputs": [
    {
     "name": "stdout",
     "output_type": "stream",
     "text": [
      "Final cost:  2866.8697684312942\n"
     ]
    }
   ],
   "source": [
    "y_hat = linear_function(X_test, w, b)\n",
    "n_pred_rows = y_hat.shape[0]\n",
    "cost = compute_cost(y_test, y_hat, n_pred_rows)\n",
    "print(\"Final cost: \", cost)"
   ]
  },
  {
   "cell_type": "code",
   "execution_count": null,
   "id": "3611e6e8-0f41-43bc-9d0a-307b77ca1a9f",
   "metadata": {},
   "outputs": [],
   "source": []
  }
 ],
 "metadata": {
  "kernelspec": {
   "display_name": "Python 3 (ipykernel)",
   "language": "python",
   "name": "python3"
  },
  "language_info": {
   "codemirror_mode": {
    "name": "ipython",
    "version": 3
   },
   "file_extension": ".py",
   "mimetype": "text/x-python",
   "name": "python",
   "nbconvert_exporter": "python",
   "pygments_lexer": "ipython3",
   "version": "3.12.1"
  }
 },
 "nbformat": 4,
 "nbformat_minor": 5
}

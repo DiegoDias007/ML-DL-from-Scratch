{
 "cells": [
  {
   "cell_type": "raw",
   "id": "40f2391b-1d11-4b9b-97a8-56c3c64576c5",
   "metadata": {},
   "source": [
    "%pip install numpy\n",
    "%pip install h5py\n",
    "%pip install matplotlib"
   ]
  },
  {
   "cell_type": "code",
   "execution_count": 1,
   "id": "71fb9c0a-6276-4b21-ae54-07d2e672de7a",
   "metadata": {},
   "outputs": [],
   "source": [
    "import numpy as np\n",
    "import matplotlib.pyplot as plt\n",
    "import h5py\n",
    "\n",
    "np.random.seed(1)"
   ]
  },
  {
   "cell_type": "code",
   "execution_count": 2,
   "id": "933f626d-d277-4575-a381-c1d52dd06b01",
   "metadata": {},
   "outputs": [],
   "source": [
    "def initialize_params(layers_dimensions):\n",
    "    \"\"\"\n",
    "    arguments:\n",
    "        layer_dimensions -> python list, index i = layer i\n",
    "    return:\n",
    "        params -> python dict: (\"Wl\") = matrix; (\"Bl\") = vector\n",
    "    \"\"\"\n",
    "    number_layers = len(layers_dimensions) # index 0 is the input layer\n",
    "    params = {}\n",
    "    for l in range(1, number_layers):\n",
    "        n_input = layers_dimensions[l - 1]\n",
    "        n_hidden = layers_dimensions[l]\n",
    "        Wl = np.random.randn(n_hidden, n_input) * np.sqrt(2.0 / n_input)\n",
    "        bl = np.zeros((n_hidden, 1))\n",
    "        params[\"W\" + str(l)] = Wl\n",
    "        params[\"b\" + str(l)] = bl\n",
    "\n",
    "        # Making sure the dimensions are right\n",
    "        assert(Wl.shape == (n_hidden, n_input))\n",
    "        assert(bl.shape == (n_hidden, 1))\n",
    "\n",
    "    return params"
   ]
  },
  {
   "cell_type": "code",
   "execution_count": 3,
   "id": "de602ef0-d666-4802-bd15-ad49f6ce14ac",
   "metadata": {},
   "outputs": [],
   "source": [
    "def forward_propagation(X, params, activation_functions):\n",
    "    \"\"\"\n",
    "    arguments:\n",
    "        X -> training examples: (n0, m)\n",
    "        params -> python dict: (\"Wl\") = matrix; (\"Bl\") = vector\n",
    "        activation_functions -> python list, index i = activation ith layer\n",
    "    return:\n",
    "        A -> output for the Lth layer\n",
    "        caches -> will be used to compute backprogation: (linear_cache, Z) for index i\n",
    "    \"\"\"\n",
    "    n_layers = len(params) // 2\n",
    "    A = X\n",
    "    caches = []\n",
    "\n",
    "    # Making sure the input is of the correct size\n",
    "    assert(n_layers == len(activation_functions))\n",
    "    \n",
    "    for l in range(n_layers):\n",
    "        A_prev = A\n",
    "        W = params[\"W\" + str(l + 1)]\n",
    "        b = params[\"b\" + str(l + 1)]\n",
    "        activation_function = activation_functions[l]\n",
    "        A, cache = forward_propagation_single_layer(A_prev, W, b, activation_function)\n",
    "        caches.append(cache)\n",
    "\n",
    "    return A, caches"
   ]
  },
  {
   "cell_type": "code",
   "execution_count": 4,
   "id": "f83c512f-b4f5-4dc2-b19a-1c212857c1b5",
   "metadata": {},
   "outputs": [],
   "source": [
    "def forward_propagation_single_layer(A_prev, W, b, activation_function):\n",
    "    \"\"\"\n",
    "    arguments:\n",
    "        A_prev -> input from the previous layer\n",
    "        W, b -> params of the current layer\n",
    "        activivation_function -> activation function for the current layer (\"sigmoid\", \"relu\")\n",
    "    return:\n",
    "        A -> output from the current layer\n",
    "        cache -> will be used to compute backpropagation: (linear_cache, Z)\n",
    "    \"\"\"\n",
    "    Z, linear_cache = linear_function(A_prev, W, b)\n",
    "    A = apply_activation_function(Z, activation_function)\n",
    "    cache = (linear_cache, Z)\n",
    "    return A, cache"
   ]
  },
  {
   "cell_type": "code",
   "execution_count": 5,
   "id": "9534de6f-67bd-42d6-ad1a-a2ed879b2a6b",
   "metadata": {},
   "outputs": [],
   "source": [
    "def linear_function(A_prev, W, b):\n",
    "    \"\"\"\n",
    "    arguments:\n",
    "        A_prev -> input from the previous layer\n",
    "        W, b -> params of the current layer\n",
    "    return:\n",
    "        z -> matrix of shape: (n_hidden_layers, n_training_examples)\n",
    "        cache -> will be used to compute backpropagation: (A_prev, W, b)\n",
    "    \"\"\"\n",
    "    Z = np.matmul(W, A_prev) + b\n",
    "    cache = (A_prev, W, b)\n",
    "    return Z, cache"
   ]
  },
  {
   "cell_type": "code",
   "execution_count": 6,
   "id": "9af40811-bf83-44a3-b2a3-e537a72f60ca",
   "metadata": {},
   "outputs": [],
   "source": [
    "def apply_activation_function(Z, activation_function):\n",
    "    \"\"\"\n",
    "    arguments:\n",
    "        Z -> linear output from the current layer\n",
    "        activivation_function -> activation function for the current layer (\"sigmoid\", \"relu\")\n",
    "    \"\"\"\n",
    "    if activation_function == \"sigmoid\":\n",
    "        A = 1 / (1 + np.exp(np.clip(-Z, -30, 30)))\n",
    "    elif activation_function == \"relu\":\n",
    "        A = np.maximum(0, Z)\n",
    "    elif activation_function == \"tanh\":\n",
    "        A = np.tanh(Z)\n",
    "\n",
    "    return A"
   ]
  },
  {
   "cell_type": "code",
   "execution_count": 7,
   "id": "549505b9-d87b-447a-bff6-ce1111d50daa",
   "metadata": {},
   "outputs": [],
   "source": [
    "def backward_propagation(AL, Y, activation_functions, caches, _lambda):\n",
    "    \"\"\"\n",
    "    arguments:\n",
    "        AL(Y_hat) -> output for the Lth layer\n",
    "        Y -> true output from the dataset\n",
    "        caches -> will be used to compute the gradients: (linear_cache, Z) for index i\n",
    "    return:\n",
    "        grads -> gradients for each layer parameter\n",
    "    \"\"\"\n",
    "    grads = {}\n",
    "    n_layers = len(caches)\n",
    "    m = AL.shape[1]\n",
    "\n",
    "    assert(len(activation_functions) == n_layers)\n",
    "    assert(AL.shape == Y.shape)\n",
    "    \n",
    "    # Computing the gradients for the Lth layer to start out backward propagation\n",
    "    cache = caches[n_layers - 1]\n",
    "    linear_cache, Z = cache\n",
    "    _, W, _ = linear_cache\n",
    "    activation_function = activation_functions[n_layers - 1]\n",
    "    \n",
    "    dAL = - np.divide(Y, AL) + np.divide(1 - Y, 1 - AL)\n",
    "    dA_prev, dW, db = backward_propagation_single_layer(dAL, cache, activation_function)\n",
    "    dW += (_lambda / m) * W\n",
    "    \n",
    "    grads[\"dA\" + str(n_layers - 1)] = dA_prev\n",
    "    grads[\"dW\" + str(n_layers)] = dW\n",
    "    grads[\"db\" + str(n_layers)] = db\n",
    "\n",
    "    for l in reversed(range(n_layers - 1)):\n",
    "        cache = caches[l]\n",
    "        linear_cache, Z = cache\n",
    "        _, W, _ = linear_cache\n",
    "        activation_function = activation_functions[l]\n",
    "        \n",
    "        dA = grads[\"dA\" + str(l + 1)]\n",
    "        dA_prev, dW, db = backward_propagation_single_layer(dA, cache, activation_function)\n",
    "        reg_term = (_lambda / m) * W\n",
    "        dW += reg_term\n",
    "        \n",
    "        grads[\"dA\" + str(l)] = dA_prev\n",
    "        grads[\"dW\" + str(l + 1)] = dW\n",
    "        grads[\"db\" + str(l + 1)] = db\n",
    "\n",
    "    return grads"
   ]
  },
  {
   "cell_type": "code",
   "execution_count": 8,
   "id": "193631e4-fce0-4ce9-b501-32db589ffa55",
   "metadata": {},
   "outputs": [],
   "source": [
    "def backward_propagation_single_layer(dA, cache, activation_function):\n",
    "    \"\"\"\n",
    "    arguments:\n",
    "        dA -> derivative of the cost with respect to the activation output\n",
    "        cache -> (linear_cache, Z)\n",
    "        activation_function -> activation function for the current layer (\"sigmoid\", \"relu\")\n",
    "    return:\n",
    "        dA_prev, dW, db -> derivative of the cost with respect to the following\n",
    "    \"\"\"\n",
    "    linear_cache, Z = cache\n",
    "    dZ = activation_backward(dA, Z, activation_function)\n",
    "    dA_prev, dW, db = linear_backward(dZ, linear_cache)\n",
    "    return dA_prev, dW, db"
   ]
  },
  {
   "cell_type": "code",
   "execution_count": 9,
   "id": "21c3a886-9b1e-42b4-8a81-a705491161d7",
   "metadata": {},
   "outputs": [],
   "source": [
    "def activation_backward(dA, Z, activation_function):\n",
    "    \"\"\"\n",
    "    arguments:\n",
    "        dA -> derivative of the cost function with respect to A(l)\n",
    "        Z -> linear output of the current layer\n",
    "        activivation_function -> activation function for the current layer (\"sigmoid\", \"relu\")\n",
    "    return:\n",
    "        dZ -> derivative of the cost function with respect to Z(l)\n",
    "    \"\"\"\n",
    "    A = apply_activation_function(Z, activation_function)\n",
    "    if activation_function == \"sigmoid\":\n",
    "        dZ = dA * A * (1 - A)\n",
    "    elif activation_function == \"relu\":\n",
    "        dZ = np.array(dA, copy=True)\n",
    "        dZ[Z <= 0] = 0\n",
    "    elif activation_function == \"tanh\":\n",
    "        dZ = dA * (1 - np.square(A))\n",
    "\n",
    "    return dZ"
   ]
  },
  {
   "cell_type": "code",
   "execution_count": 10,
   "id": "a3186988-00e8-46e0-9c11-6463be473390",
   "metadata": {},
   "outputs": [],
   "source": [
    "def linear_backward(dZ, linear_cache):\n",
    "    \"\"\"\n",
    "    arguments:\n",
    "        dZ -> derivative of the cost function with respect do Z(l)\n",
    "        linear_cache -> (A_prev, W, b)\n",
    "    return:\n",
    "        dA_prev, dW, db -> derivatives of the cost function with respect to each one\n",
    "    \"\"\"\n",
    "    A_prev, W, b = linear_cache\n",
    "    num_neurons_current_layer, num_examples = dZ.shape\n",
    "    num_neurons_prev_layer = A_prev.shape[0]\n",
    "    \n",
    "    # Calculate the gradients\n",
    "    dA_prev = np.matmul(W.T, dZ)\n",
    "    dW = (1 / num_examples) * np.matmul(dZ, A_prev.T)\n",
    "    db = (1 / num_examples) * np.sum(dZ, axis=1).reshape(-1, 1)\n",
    "\n",
    "    # Making sure the dimensions are right\n",
    "    assert(dA_prev.shape == (num_neurons_prev_layer, num_examples))\n",
    "    assert(dW.shape == (num_neurons_current_layer, num_neurons_prev_layer))\n",
    "    assert(db.shape == (num_neurons_current_layer, 1))\n",
    "\n",
    "    return dA_prev, dW, db"
   ]
  },
  {
   "cell_type": "code",
   "execution_count": 11,
   "id": "e28dbb04-3136-4e0d-86a1-46a92eafdcc2",
   "metadata": {},
   "outputs": [],
   "source": [
    "def update_parameters(parameters, grads, learning_rate):\n",
    "    params = parameters\n",
    "    n_layers = len(parameters) // 2\n",
    "    for l in range(1, n_layers + 1):\n",
    "        params[\"W\" + str(l)] -= learning_rate * grads[\"dW\" + str(l)]\n",
    "        params[\"b\" + str(l)] -= learning_rate * grads[\"db\" + str(l)]\n",
    "\n",
    "    return params"
   ]
  },
  {
   "cell_type": "code",
   "execution_count": 12,
   "id": "8a6b5a52-82f0-43ae-9297-a0da94b755c4",
   "metadata": {},
   "outputs": [],
   "source": [
    "def cost_function(Al, Y, params, _lambda):\n",
    "    m = Y.shape[1]\n",
    "    loss = Y * np.log(Al) + (1 - Y) * np.log(1 - Al)\n",
    "    cost = (-1 / m) * np.sum(loss)\n",
    "\n",
    "    # Compute regularization term\n",
    "    L2_regularization_term = 0\n",
    "    for key in params.keys():\n",
    "        if 'W' in key:\n",
    "            L2_regularization_term += np.sum(np.square(params[key]))\n",
    "\n",
    "    cost += (_lambda / (2 * m)) * L2_regularization_term\n",
    "    return cost"
   ]
  },
  {
   "cell_type": "code",
   "execution_count": 13,
   "id": "63b91b7f-b61b-4205-8e3e-dec318b6aeac",
   "metadata": {},
   "outputs": [],
   "source": [
    "def gradient_descent(X, Y, layer_dimensions, activation_functions, number_iterations = 2500, learning_rate = 0.0075, _lambda=1):\n",
    "    \"\"\"\n",
    "    arguments:\n",
    "        X, Y -> training-set\n",
    "        layer_dimensions -> python list: index i = layer_dimension ith layer\n",
    "        activation_functions -> python list: index i = activation ith layer\n",
    "        number_iterations -> how many times you want gradient descent to run\n",
    "        learning_rate -> the amount you want the parameters to be affect by the gradient update\n",
    "    return:\n",
    "        params -> updated params after all iterations\n",
    "        costs -> python list containing cost during training\n",
    "    \"\"\"\n",
    "    params = initialize_params(layer_dimensions)\n",
    "    costs = []\n",
    "    for i in range(number_iterations + 1):\n",
    "        Al, caches = forward_propagation(X, params, activation_functions)\n",
    "        grads = backward_propagation(Al, Y, activation_functions, caches, _lambda)\n",
    "        params = update_parameters(params, grads, learning_rate)\n",
    "        cost = cost_function(Al, Y, params, _lambda)\n",
    "        costs.append(cost)\n",
    "        if (i % 100) == 0:\n",
    "            print(f\"Cost at iteration {i} is: {cost}\")\n",
    "\n",
    "    return params, costs"
   ]
  },
  {
   "cell_type": "code",
   "execution_count": 14,
   "id": "a8e7978c-011a-4abf-9df1-0ca94714da30",
   "metadata": {},
   "outputs": [],
   "source": [
    "# Testing the model\n",
    "def load_data():\n",
    "    train_dataset = h5py.File('datasets/train_catvnoncat.h5', \"r\")\n",
    "    train_set_x_orig = np.array(train_dataset[\"train_set_x\"][:])\n",
    "    train_set_y_orig = np.array(train_dataset[\"train_set_y\"][:])\n",
    "\n",
    "    test_dataset = h5py.File('datasets/test_catvnoncat.h5', \"r\")\n",
    "    test_set_x_orig = np.array(test_dataset[\"test_set_x\"][:])\n",
    "    test_set_y_orig = np.array(test_dataset[\"test_set_y\"][:])\n",
    "\n",
    "    train_set_y_orig = train_set_y_orig.reshape((1, train_set_y_orig.shape[0]))\n",
    "    test_set_y_orig = test_set_y_orig.reshape((1, test_set_y_orig.shape[0]))\n",
    "    \n",
    "    return train_set_x_orig, train_set_y_orig, test_set_x_orig, test_set_y_orig"
   ]
  },
  {
   "cell_type": "code",
   "execution_count": 15,
   "id": "4adc6bff-755e-4e6e-8580-44a06d017506",
   "metadata": {},
   "outputs": [
    {
     "data": {
      "text/plain": [
       "<matplotlib.image.AxesImage at 0x16fe90ecb30>"
      ]
     },
     "execution_count": 15,
     "metadata": {},
     "output_type": "execute_result"
    },
    {
     "data": {
      "image/png": "[encoded data removed]",
      "text/plain": [
       "<Figure size 640x480 with 1 Axes>"
      ]
     },
     "metadata": {},
     "output_type": "display_data"
    }
   ],
   "source": [
    "X_train, Y_train, X_test, Y_test = load_data()\n",
    "plt.imshow(X_train[11])"
   ]
  },
  {
   "cell_type": "code",
   "execution_count": 16,
   "id": "20bf8c1d-4e0d-4081-9ac7-e47584c0aee1",
   "metadata": {},
   "outputs": [
    {
     "name": "stdout",
     "output_type": "stream",
     "text": [
      "X train shape:  (12288, 209)\n",
      "Y train shape:  (1, 209)\n",
      "Number of training examples:  209\n",
      "Number of test examples:  50\n"
     ]
    }
   ],
   "source": [
    "X_train, X_test = X_train.reshape(X_train.shape[0], -1).T, X_test.reshape(X_test.shape[0], -1).T\n",
    "X_train =  X_train / 255\n",
    "X_test = X_test / 255\n",
    "print(\"X train shape: \", X_train.shape)\n",
    "print(\"Y train shape: \", Y_train.shape)\n",
    "print(\"Number of training examples: \", X_train.shape[1])\n",
    "print(\"Number of test examples: \", X_test.shape[1])"
   ]
  },
  {
   "cell_type": "code",
   "execution_count": 17,
   "id": "a36e60d6-9218-4edb-a604-72b0b3f6c640",
   "metadata": {},
   "outputs": [],
   "source": [
    "n_neurons_first_layer, n_training_examples = X_train.shape\n",
    "n_neurons_output_layer = Y_train.shape[0]\n",
    "\n",
    "# Neural network with 3 hidden layers\n",
    "layer_dimensions = [n_neurons_first_layer, 20, 7, 5, n_neurons_output_layer]\n",
    "params = initialize_params(layer_dimensions)\n",
    "activation_functions = [\"relu\", \"relu\",\"tanh\", \"sigmoid\"]"
   ]
  },
  {
   "cell_type": "code",
   "execution_count": 18,
   "id": "2a781924-b9d0-4ed8-a9d6-e999a21ae2bb",
   "metadata": {},
   "outputs": [
    {
     "name": "stdout",
     "output_type": "stream",
     "text": [
      "Cost at iteration 0 is: 2.2916028872863565\n",
      "Cost at iteration 100 is: 2.002717202842195\n",
      "Cost at iteration 200 is: 1.9271890535543799\n",
      "Cost at iteration 300 is: 1.8282705469165852\n",
      "Cost at iteration 400 is: 1.7543331125776302\n",
      "Cost at iteration 500 is: 1.6791925609002667\n",
      "Cost at iteration 600 is: 1.5901603582005719\n",
      "Cost at iteration 700 is: 1.5290319008438458\n",
      "Cost at iteration 800 is: 1.463253962794341\n",
      "Cost at iteration 900 is: 1.4066816540224776\n",
      "Cost at iteration 1000 is: 1.3547522518301691\n",
      "Cost at iteration 1100 is: 1.308649123269155\n",
      "Cost at iteration 1200 is: 1.2687137908608774\n",
      "Cost at iteration 1300 is: 1.224577454095508\n",
      "Cost at iteration 1400 is: 1.1854939582623483\n",
      "Cost at iteration 1500 is: 1.1506723351090034\n",
      "Cost at iteration 1600 is: 1.11760466221304\n",
      "Cost at iteration 1700 is: 1.085447590775218\n",
      "Cost at iteration 1800 is: 1.0561940847220415\n",
      "Cost at iteration 1900 is: 1.0277346368170537\n",
      "Cost at iteration 2000 is: 1.0008011910731316\n",
      "Cost at iteration 2100 is: 0.9752530908122156\n",
      "Cost at iteration 2200 is: 0.9503373991637539\n",
      "Cost at iteration 2300 is: 0.9268699520499617\n",
      "Cost at iteration 2400 is: 0.9044433416840143\n",
      "Cost at iteration 2500 is: 0.8830777956588372\n",
      "Cost at iteration 2600 is: 0.862484754247698\n",
      "Cost at iteration 2700 is: 0.8426060061366168\n",
      "Cost at iteration 2800 is: 0.8228140407373684\n",
      "Cost at iteration 2900 is: 0.804184264672495\n",
      "Cost at iteration 3000 is: 0.7860161439381965\n",
      "Cost at iteration 3100 is: 0.7686687171463654\n",
      "Cost at iteration 3200 is: 0.7518511316904624\n",
      "Cost at iteration 3300 is: 0.7356331928338076\n",
      "Cost at iteration 3400 is: 0.7199140355349524\n",
      "Cost at iteration 3500 is: 0.7046636953739839\n",
      "Cost at iteration 3600 is: 0.6898867393770564\n",
      "Cost at iteration 3700 is: 0.675422701856278\n",
      "Cost at iteration 3800 is: 0.661526765664399\n",
      "Cost at iteration 3900 is: 0.6479557181839456\n",
      "Cost at iteration 4000 is: 0.634890720355891\n"
     ]
    }
   ],
   "source": [
    "parameters, costs = gradient_descent(\n",
    "    X_train, Y_train, layer_dimensions, activation_functions, number_iterations=4000, learning_rate = 0.004, _lambda=8.5\n",
    ")"
   ]
  },
  {
   "cell_type": "code",
   "execution_count": 19,
   "id": "4ba00c9c-dfde-451f-99cb-2fd81350a5ef",
   "metadata": {},
   "outputs": [
    {
     "data": {
      "text/plain": [
       "[<matplotlib.lines.Line2D at 0x16fea52ce60>]"
      ]
     },
     "execution_count": 19,
     "metadata": {},
     "output_type": "execute_result"
    },
    {
     "data": {
      "image/png": "[encoded data removed]",
      "text/plain": [
       "<Figure size 640x480 with 1 Axes>"
      ]
     },
     "metadata": {},
     "output_type": "display_data"
    }
   ],
   "source": [
    "plt.plot(costs)"
   ]
  },
  {
   "cell_type": "code",
   "execution_count": 20,
   "id": "c2d0e531-b9cf-44c1-a78c-7ddbc476f56c",
   "metadata": {},
   "outputs": [],
   "source": [
    "def get_percentage_correct_pred(AL, Y):\n",
    "    n = Y.shape[1]\n",
    "    AL_binary = [0] * n\n",
    "    for i in range(n):\n",
    "        if AL[0][i] > 0.5:\n",
    "            AL_binary[i] = 1\n",
    "        else:\n",
    "            AL_binary[i] = 0\n",
    "            \n",
    "    correct_pred = np.equal(AL_binary, Y)\n",
    "    correct = 0\n",
    "    for i in range(n):\n",
    "        correct += correct_pred[0][i]\n",
    "    \n",
    "    correct_percentage = (correct / n) * 100\n",
    "    return correct_percentage"
   ]
  },
  {
   "cell_type": "code",
   "execution_count": 21,
   "id": "a9c5a951-95f2-4ca0-813a-91d05fdbbc8a",
   "metadata": {},
   "outputs": [
    {
     "name": "stdout",
     "output_type": "stream",
     "text": [
      "Percentage of correct predictions Training set:  100.0\n",
      "Percentage of correct predictions Test set 76.0\n"
     ]
    }
   ],
   "source": [
    "AL_train, caches = forward_propagation(X_train, parameters, activation_functions)\n",
    "AL_test, caches = forward_propagation(X_test, parameters, activation_functions)\n",
    "correct_train = get_percentage_correct_pred(AL_train, Y_train)\n",
    "correct_test = get_percentage_correct_pred(AL_test, Y_test)\n",
    "print(\"Percentage of correct predictions Training set: \", correct_train)\n",
    "print(\"Percentage of correct predictions Test set\", correct_test)"
   ]
  },
  {
   "cell_type": "markdown",
   "id": "0a275cdb-4970-4ce7-9905-97540b1e6db4",
   "metadata": {},
   "source": [
    "## Conclusion\n",
    "The model worked as expected, achieving a good accuracy on the traning set, although, since the dataset is very small, the model ended up overfitting to the training data, even then, the test set acurracy was still decent."
   ]
  }
 ],
 "metadata": {
  "kernelspec": {
   "display_name": "Python 3 (ipykernel)",
   "language": "python",
   "name": "python3"
  },
  "language_info": {
   "codemirror_mode": {
    "name": "ipython",
    "version": 3
   },
   "file_extension": ".py",
   "mimetype": "text/x-python",
   "name": "python",
   "nbconvert_exporter": "python",
   "pygments_lexer": "ipython3",
   "version": "3.12.1"
  }
 },
 "nbformat": 4,
 "nbformat_minor": 5
}

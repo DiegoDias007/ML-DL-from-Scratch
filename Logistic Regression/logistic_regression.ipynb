{
 "cells": [
  {
   "cell_type": "code",
   "execution_count": null,
   "id": "893453e0-a611-4c8b-88b9-b62a2a0e3c68",
   "metadata": {},
   "outputs": [],
   "source": [
    "%pip install pandas\n",
    "%pip install numpy\n",
    "%pip install scikit-learn\n",
    "%pip install matplotlib"
   ]
  },
  {
   "cell_type": "code",
   "execution_count": 277,
   "id": "9e384ef8-d9f4-43d6-817b-221acd34182f",
   "metadata": {},
   "outputs": [],
   "source": [
    "# Note:\n",
    "# I'll use \"m\" as the number of training examples and \"n\" as the number of features as notation."
   ]
  },
  {
   "cell_type": "code",
   "execution_count": 278,
   "id": "3dabde49-7e76-456a-a532-25297ca018a2",
   "metadata": {},
   "outputs": [],
   "source": [
    "import pandas as pd\n",
    "import numpy as np\n",
    "import matplotlib.pyplot as plt\n",
    "from sklearn.preprocessing import StandardScaler\n",
    "from sklearn.model_selection import train_test_split\n",
    "import math"
   ]
  },
  {
   "cell_type": "code",
   "execution_count": 279,
   "id": "e87bb666-6e80-4be6-8906-afde1fd4fba7",
   "metadata": {},
   "outputs": [],
   "source": [
    "def compute_cost(y, yhat, w, _lambda=0.1):\n",
    "    \"\"\"\n",
    "        y: (m, 1)\n",
    "        yhat: (m, 1)\n",
    "    \"\"\"\n",
    "    small_value = 1e-10\n",
    "    n_training_examples = y.shape[0]\n",
    "    loss = -y * np.log(yhat + small_value) - (1 - y) * np.log(1 - yhat + small_value) # add small value to avoid 0.\n",
    "    cost = np.sum(loss) / n_training_examples\n",
    "    regularization = (_lambda / (2 * n_training_examples)) * np.sum(w ** 2)\n",
    "    cost += regularization\n",
    "    return cost"
   ]
  },
  {
   "cell_type": "code",
   "execution_count": 280,
   "id": "89fb4e29-b6a7-4c7f-be57-4ec84068606f",
   "metadata": {},
   "outputs": [],
   "source": [
    "def initialize_parameters(n_features):\n",
    "    \"\"\"\n",
    "        w: (n, 1)\n",
    "        b: scalar\n",
    "    \"\"\"\n",
    "    w = np.zeros((n_features, 1))\n",
    "    b = np.float64(0.0)\n",
    "    return w, b"
   ]
  },
  {
   "cell_type": "code",
   "execution_count": 281,
   "id": "2ac917e2-e058-44eb-913d-f57ec24ac22e",
   "metadata": {},
   "outputs": [],
   "source": [
    "def linear_function(X, w, b):\n",
    "    \"\"\"\n",
    "        X: (m, n)\n",
    "        w: (n, 1)\n",
    "        b: scalar\n",
    "    \"\"\"\n",
    "    n_training_examples = X.shape[1]\n",
    "    linear_pred = np.matmul(X, w) + b\n",
    "    return linear_pred"
   ]
  },
  {
   "cell_type": "code",
   "execution_count": 282,
   "id": "eb6e8973-0152-49ed-a8d0-3c3ddf0b3c52",
   "metadata": {},
   "outputs": [],
   "source": [
    "def sigmoid_function(z):\n",
    "    \"\"\"\n",
    "        z: (m, 1)\n",
    "    \"\"\"\n",
    "    pred = 1 / (1 + np.exp(-z.clip(-60, 60)))  # Clipping to avoid overflow\n",
    "    return pred"
   ]
  },
  {
   "cell_type": "code",
   "execution_count": 283,
   "id": "f9669b5d-621e-4509-9b6b-f9c1c3ef8b61",
   "metadata": {},
   "outputs": [],
   "source": [
    "def compute_gradient(X, y, y_hat, _lambda=0.1):\n",
    "    \"\"\"\n",
    "        X: (m, n)\n",
    "        y: (m, 1)\n",
    "        yhat: (m, 1)\n",
    "    \"\"\"\n",
    "    n_training_examples, n_features = X.shape[0], X.shape[1]\n",
    "    error = y_hat - y\n",
    "\n",
    "    regularization_term = (_lambda / n_training_examples) * w\n",
    "    \n",
    "    w_gradient = (1 / n_training_examples) * np.matmul(X.T, error) + regularization_term\n",
    "    b_gradient = (1 / n_training_examples) * np.sum(error)\n",
    "    return w_gradient, b_gradient"
   ]
  },
  {
   "cell_type": "code",
   "execution_count": 284,
   "id": "77874e07-48bb-450c-9eb7-854f053c3998",
   "metadata": {},
   "outputs": [],
   "source": [
    "def gradient_descent(X, y, w_in, b_in, alpha=0.01, number_iterations=10000):\n",
    "    \"\"\"\n",
    "        X: (m, n)\n",
    "        y: (m, 1)\n",
    "        w_in: (n, 1)\n",
    "        b_in: scalar\n",
    "        alpha: scalar\n",
    "        number_iterations: scalar\n",
    "    \"\"\"\n",
    "    \n",
    "    w = w_in\n",
    "    b = b_in\n",
    "\n",
    "    for i in range(number_iterations + 1):\n",
    "\n",
    "        # make prediction\n",
    "        z = linear_function(X, w, b)\n",
    "        y_hat = sigmoid_function(z)\n",
    "\n",
    "        #calculate gradient\n",
    "        dj_dw, dj_db = compute_gradient(X, y, y_hat)\n",
    "        \n",
    "        # update parameters based on the gradient\n",
    "        w = w - alpha * dj_dw\n",
    "        b = b - alpha * dj_db\n",
    "\n",
    "    return w, b"
   ]
  },
  {
   "cell_type": "code",
   "execution_count": 285,
   "id": "57df307d-1f1a-4864-9474-4c8d62d12700",
   "metadata": {},
   "outputs": [
    {
     "name": "stdout",
     "output_type": "stream",
     "text": [
      "X shape:  (569, 30)\n",
      "Y shape:  (569, 1)\n"
     ]
    }
   ],
   "source": [
    "iris = load_breast_cancer()\n",
    "X = iris.data\n",
    "y = (iris.target).reshape(-1, 1)\n",
    "print(\"X shape: \", X.shape)\n",
    "print(\"Y shape: \", y.shape)"
   ]
  },
  {
   "cell_type": "code",
   "execution_count": 286,
   "id": "8c4f8bf8-0ab4-4236-95b5-d548a2cdb313",
   "metadata": {},
   "outputs": [],
   "source": [
    "X_train, X_test, y_train, y_test = train_test_split(X, y, test_size=0.2, random_state=42)"
   ]
  },
  {
   "cell_type": "code",
   "execution_count": 287,
   "id": "f8e86cee-65af-4f3a-9a43-be4cc4246d47",
   "metadata": {},
   "outputs": [],
   "source": [
    "n_training_examples, n_features = X_train.shape[0], X_train.shape[1]\n",
    "w_in, b_in = initialize_parameters(n_features)\n",
    "alpha = 0.001\n",
    "number_iterations = 100000"
   ]
  },
  {
   "cell_type": "code",
   "execution_count": 288,
   "id": "2712be49-97ef-43e3-b7ab-a3a1a5bd6ac6",
   "metadata": {},
   "outputs": [],
   "source": [
    "w, b = gradient_descent(X_train, y_train, w_in, b_in, alpha, number_iterations)"
   ]
  },
  {
   "cell_type": "code",
   "execution_count": 289,
   "id": "ddd76c11-2270-47fa-b29b-73a7bc5ea9c6",
   "metadata": {},
   "outputs": [
    {
     "name": "stdout",
     "output_type": "stream",
     "text": [
      "Final cost:  0.5220932170799784\n"
     ]
    }
   ],
   "source": [
    "tmp = linear_function(X_test, w, b)\n",
    "yhat = sigmoid_function(tmp)\n",
    "final_cost = compute_cost(y_test, yhat, w)\n",
    "print(\"Final cost: \", final_cost)"
   ]
  },
  {
   "cell_type": "code",
   "execution_count": 290,
   "id": "9f6cb51d-ad5a-46f0-b713-6ad4a4f8ad28",
   "metadata": {},
   "outputs": [
    {
     "name": "stdout",
     "output_type": "stream",
     "text": [
      "Percentage of correct predictions: 96.49%\n"
     ]
    }
   ],
   "source": [
    "class_pred = [0 if x < 0.5 else 1 for x in yhat]\n",
    "correct = 0\n",
    "m = y_test.shape[0]\n",
    "for i in range(m):\n",
    "    if class_pred[i] == y_test[i]:\n",
    "        correct+=1\n",
    "\n",
    "correct_percentage = (correct / m) * 100\n",
    "print(f\"Percentage of correct predictions: {correct_percentage:.2f}%\")"
   ]
  },
  {
   "cell_type": "code",
   "execution_count": null,
   "id": "ca4d1676-ac68-4b4e-bf3f-a36b81db285f",
   "metadata": {},
   "outputs": [],
   "source": []
  }
 ],
 "metadata": {
  "kernelspec": {
   "display_name": "Python 3 (ipykernel)",
   "language": "python",
   "name": "python3"
  },
  "language_info": {
   "codemirror_mode": {
    "name": "ipython",
    "version": 3
   },
   "file_extension": ".py",
   "mimetype": "text/x-python",
   "name": "python",
   "nbconvert_exporter": "python",
   "pygments_lexer": "ipython3",
   "version": "3.12.1"
  }
 },
 "nbformat": 4,
 "nbformat_minor": 5
}
